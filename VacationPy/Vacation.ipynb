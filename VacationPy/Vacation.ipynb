{
 "cells": [
  {
   "cell_type": "code",
   "execution_count": 20,
   "metadata": {},
   "outputs": [],
   "source": [
    "# Dependencies and Setup\n",
    "import matplotlib.pyplot as plt\n",
    "import pandas as pd\n",
    "import numpy as np\n",
    "import requests\n",
    "import gmaps\n",
    "import os\n",
    "\n",
    "# Import API key\n",
    "from api_keys import g_key"
   ]
  },
  {
   "cell_type": "code",
   "execution_count": 21,
   "metadata": {},
   "outputs": [],
   "source": [
    "weather_df=pd.read_csv('../WeatherPy/output_data/cities.csv')"
   ]
  },
  {
   "cell_type": "code",
   "execution_count": 22,
   "metadata": {},
   "outputs": [
    {
     "data": {
      "text/html": [
       "<div>\n",
       "<style scoped>\n",
       "    .dataframe tbody tr th:only-of-type {\n",
       "        vertical-align: middle;\n",
       "    }\n",
       "\n",
       "    .dataframe tbody tr th {\n",
       "        vertical-align: top;\n",
       "    }\n",
       "\n",
       "    .dataframe thead th {\n",
       "        text-align: right;\n",
       "    }\n",
       "</style>\n",
       "<table border=\"1\" class=\"dataframe\">\n",
       "  <thead>\n",
       "    <tr style=\"text-align: right;\">\n",
       "      <th></th>\n",
       "      <th>City</th>\n",
       "      <th>Cloudiness</th>\n",
       "      <th>Country</th>\n",
       "      <th>Date</th>\n",
       "      <th>Humidity (%)</th>\n",
       "      <th>Latitude</th>\n",
       "      <th>Longitude</th>\n",
       "      <th>Max Temperature</th>\n",
       "      <th>Wind Speed (MPH)</th>\n",
       "    </tr>\n",
       "  </thead>\n",
       "  <tbody>\n",
       "    <tr>\n",
       "      <td>0</td>\n",
       "      <td>Severo-Kuril'sk</td>\n",
       "      <td>96</td>\n",
       "      <td>RU</td>\n",
       "      <td>1584037782</td>\n",
       "      <td>76</td>\n",
       "      <td>50.68</td>\n",
       "      <td>156.12</td>\n",
       "      <td>18.50</td>\n",
       "      <td>24.07</td>\n",
       "    </tr>\n",
       "    <tr>\n",
       "      <td>1</td>\n",
       "      <td>Chui</td>\n",
       "      <td>47</td>\n",
       "      <td>UY</td>\n",
       "      <td>1584037756</td>\n",
       "      <td>44</td>\n",
       "      <td>-33.70</td>\n",
       "      <td>-53.46</td>\n",
       "      <td>90.50</td>\n",
       "      <td>8.10</td>\n",
       "    </tr>\n",
       "    <tr>\n",
       "      <td>2</td>\n",
       "      <td>Benjamin Constant</td>\n",
       "      <td>40</td>\n",
       "      <td>BR</td>\n",
       "      <td>1584038164</td>\n",
       "      <td>70</td>\n",
       "      <td>-4.38</td>\n",
       "      <td>-70.03</td>\n",
       "      <td>91.40</td>\n",
       "      <td>4.70</td>\n",
       "    </tr>\n",
       "    <tr>\n",
       "      <td>3</td>\n",
       "      <td>Rikitea</td>\n",
       "      <td>17</td>\n",
       "      <td>PF</td>\n",
       "      <td>1584038019</td>\n",
       "      <td>80</td>\n",
       "      <td>-23.12</td>\n",
       "      <td>-134.97</td>\n",
       "      <td>77.00</td>\n",
       "      <td>20.20</td>\n",
       "    </tr>\n",
       "    <tr>\n",
       "      <td>4</td>\n",
       "      <td>Cape Town</td>\n",
       "      <td>13</td>\n",
       "      <td>ZA</td>\n",
       "      <td>1584037927</td>\n",
       "      <td>82</td>\n",
       "      <td>-33.93</td>\n",
       "      <td>18.42</td>\n",
       "      <td>66.99</td>\n",
       "      <td>4.70</td>\n",
       "    </tr>\n",
       "    <tr>\n",
       "      <td>...</td>\n",
       "      <td>...</td>\n",
       "      <td>...</td>\n",
       "      <td>...</td>\n",
       "      <td>...</td>\n",
       "      <td>...</td>\n",
       "      <td>...</td>\n",
       "      <td>...</td>\n",
       "      <td>...</td>\n",
       "      <td>...</td>\n",
       "    </tr>\n",
       "    <tr>\n",
       "      <td>560</td>\n",
       "      <td>Kizema</td>\n",
       "      <td>91</td>\n",
       "      <td>RU</td>\n",
       "      <td>1584037963</td>\n",
       "      <td>97</td>\n",
       "      <td>61.11</td>\n",
       "      <td>44.83</td>\n",
       "      <td>34.34</td>\n",
       "      <td>10.27</td>\n",
       "    </tr>\n",
       "    <tr>\n",
       "      <td>561</td>\n",
       "      <td>College</td>\n",
       "      <td>40</td>\n",
       "      <td>US</td>\n",
       "      <td>1584038116</td>\n",
       "      <td>75</td>\n",
       "      <td>64.86</td>\n",
       "      <td>-147.80</td>\n",
       "      <td>-2.99</td>\n",
       "      <td>3.36</td>\n",
       "    </tr>\n",
       "    <tr>\n",
       "      <td>562</td>\n",
       "      <td>Plouzané</td>\n",
       "      <td>48</td>\n",
       "      <td>FR</td>\n",
       "      <td>1584038199</td>\n",
       "      <td>65</td>\n",
       "      <td>48.38</td>\n",
       "      <td>-4.62</td>\n",
       "      <td>46.40</td>\n",
       "      <td>11.41</td>\n",
       "    </tr>\n",
       "    <tr>\n",
       "      <td>563</td>\n",
       "      <td>Nadym</td>\n",
       "      <td>100</td>\n",
       "      <td>RU</td>\n",
       "      <td>1584038199</td>\n",
       "      <td>94</td>\n",
       "      <td>65.53</td>\n",
       "      <td>72.52</td>\n",
       "      <td>33.26</td>\n",
       "      <td>16.89</td>\n",
       "    </tr>\n",
       "    <tr>\n",
       "      <td>564</td>\n",
       "      <td>Lensk</td>\n",
       "      <td>100</td>\n",
       "      <td>RU</td>\n",
       "      <td>1584038199</td>\n",
       "      <td>92</td>\n",
       "      <td>60.73</td>\n",
       "      <td>114.93</td>\n",
       "      <td>20.12</td>\n",
       "      <td>13.47</td>\n",
       "    </tr>\n",
       "  </tbody>\n",
       "</table>\n",
       "<p>565 rows × 9 columns</p>\n",
       "</div>"
      ],
      "text/plain": [
       "                  City  Cloudiness Country        Date  Humidity (%)  \\\n",
       "0      Severo-Kuril'sk          96      RU  1584037782            76   \n",
       "1                 Chui          47      UY  1584037756            44   \n",
       "2    Benjamin Constant          40      BR  1584038164            70   \n",
       "3              Rikitea          17      PF  1584038019            80   \n",
       "4            Cape Town          13      ZA  1584037927            82   \n",
       "..                 ...         ...     ...         ...           ...   \n",
       "560             Kizema          91      RU  1584037963            97   \n",
       "561            College          40      US  1584038116            75   \n",
       "562           Plouzané          48      FR  1584038199            65   \n",
       "563              Nadym         100      RU  1584038199            94   \n",
       "564              Lensk         100      RU  1584038199            92   \n",
       "\n",
       "     Latitude  Longitude  Max Temperature  Wind Speed (MPH)  \n",
       "0       50.68     156.12            18.50             24.07  \n",
       "1      -33.70     -53.46            90.50              8.10  \n",
       "2       -4.38     -70.03            91.40              4.70  \n",
       "3      -23.12    -134.97            77.00             20.20  \n",
       "4      -33.93      18.42            66.99              4.70  \n",
       "..        ...        ...              ...               ...  \n",
       "560     61.11      44.83            34.34             10.27  \n",
       "561     64.86    -147.80            -2.99              3.36  \n",
       "562     48.38      -4.62            46.40             11.41  \n",
       "563     65.53      72.52            33.26             16.89  \n",
       "564     60.73     114.93            20.12             13.47  \n",
       "\n",
       "[565 rows x 9 columns]"
      ]
     },
     "execution_count": 22,
     "metadata": {},
     "output_type": "execute_result"
    }
   ],
   "source": [
    "weather_df"
   ]
  },
  {
   "cell_type": "code",
   "execution_count": 23,
   "metadata": {},
   "outputs": [],
   "source": [
    "gmaps.configure(api_key=g_key)"
   ]
  },
  {
   "cell_type": "code",
   "execution_count": 24,
   "metadata": {},
   "outputs": [],
   "source": [
    "# Store 'Latitude' and 'Longitude' into  locations \n",
    "locations = weather_df[[\"Latitude\", \"Longitude\"]].astype(float)\n",
    "\n",
    "# Store humidity\n",
    "humidity = weather_df[\"Humidity (%)\"].astype(float)"
   ]
  },
  {
   "cell_type": "code",
   "execution_count": 25,
   "metadata": {},
   "outputs": [
    {
     "data": {
      "application/vnd.jupyter.widget-view+json": {
       "model_id": "2a35c40f8b254828b19728f1b73aa7c4",
       "version_major": 2,
       "version_minor": 0
      },
      "text/plain": [
       "Figure(layout=FigureLayout(height='420px'))"
      ]
     },
     "metadata": {},
     "output_type": "display_data"
    }
   ],
   "source": [
    "#Use Humidity has weight for heatmap\n",
    "fig = gmaps.figure(center=(10,10), zoom_level=2)\n",
    "\n",
    "heat_layer = gmaps.heatmap_layer(locations ,weights=humidity, \n",
    "                                 dissipating=False, max_intensity=100,\n",
    "                                 point_radius = 2)\n",
    "fig.add_layer(heat_layer)\n",
    "\n",
    "fig"
   ]
  },
  {
   "cell_type": "code",
   "execution_count": 26,
   "metadata": {},
   "outputs": [],
   "source": [
    "# Create new DataFrame fitting weather criteria\n",
    "\n",
    "# - A max temperature lower than 80 degrees but higher than 70.\n",
    "# - Wind speed less than 10 mph.\n",
    "# - Zero cloudiness."
   ]
  },
  {
   "cell_type": "code",
   "execution_count": 27,
   "metadata": {},
   "outputs": [
    {
     "data": {
      "text/html": [
       "<div>\n",
       "<style scoped>\n",
       "    .dataframe tbody tr th:only-of-type {\n",
       "        vertical-align: middle;\n",
       "    }\n",
       "\n",
       "    .dataframe tbody tr th {\n",
       "        vertical-align: top;\n",
       "    }\n",
       "\n",
       "    .dataframe thead th {\n",
       "        text-align: right;\n",
       "    }\n",
       "</style>\n",
       "<table border=\"1\" class=\"dataframe\">\n",
       "  <thead>\n",
       "    <tr style=\"text-align: right;\">\n",
       "      <th></th>\n",
       "      <th>City</th>\n",
       "      <th>Latitude</th>\n",
       "      <th>Longitude</th>\n",
       "      <th>Max Temperature</th>\n",
       "      <th>Wind Speed (MPH)</th>\n",
       "      <th>Cloudiness</th>\n",
       "      <th>Humidity (%)</th>\n",
       "    </tr>\n",
       "  </thead>\n",
       "  <tbody>\n",
       "    <tr>\n",
       "      <td>63</td>\n",
       "      <td>Mount Isa</td>\n",
       "      <td>-20.73</td>\n",
       "      <td>139.50</td>\n",
       "      <td>71.60</td>\n",
       "      <td>5.82</td>\n",
       "      <td>0</td>\n",
       "      <td>83</td>\n",
       "    </tr>\n",
       "    <tr>\n",
       "      <td>162</td>\n",
       "      <td>Kununurra</td>\n",
       "      <td>-15.77</td>\n",
       "      <td>128.73</td>\n",
       "      <td>75.20</td>\n",
       "      <td>1.97</td>\n",
       "      <td>0</td>\n",
       "      <td>88</td>\n",
       "    </tr>\n",
       "    <tr>\n",
       "      <td>249</td>\n",
       "      <td>Pathein</td>\n",
       "      <td>16.78</td>\n",
       "      <td>94.73</td>\n",
       "      <td>74.48</td>\n",
       "      <td>7.31</td>\n",
       "      <td>0</td>\n",
       "      <td>83</td>\n",
       "    </tr>\n",
       "    <tr>\n",
       "      <td>294</td>\n",
       "      <td>Alibag</td>\n",
       "      <td>18.64</td>\n",
       "      <td>72.88</td>\n",
       "      <td>75.20</td>\n",
       "      <td>8.05</td>\n",
       "      <td>0</td>\n",
       "      <td>57</td>\n",
       "    </tr>\n",
       "    <tr>\n",
       "      <td>374</td>\n",
       "      <td>Ca Mau</td>\n",
       "      <td>9.18</td>\n",
       "      <td>105.15</td>\n",
       "      <td>75.56</td>\n",
       "      <td>3.24</td>\n",
       "      <td>0</td>\n",
       "      <td>93</td>\n",
       "    </tr>\n",
       "  </tbody>\n",
       "</table>\n",
       "</div>"
      ],
      "text/plain": [
       "          City  Latitude  Longitude  Max Temperature  Wind Speed (MPH)  \\\n",
       "63   Mount Isa    -20.73     139.50            71.60              5.82   \n",
       "162  Kununurra    -15.77     128.73            75.20              1.97   \n",
       "249    Pathein     16.78      94.73            74.48              7.31   \n",
       "294     Alibag     18.64      72.88            75.20              8.05   \n",
       "374     Ca Mau      9.18     105.15            75.56              3.24   \n",
       "\n",
       "     Cloudiness  Humidity (%)  \n",
       "63            0            83  \n",
       "162           0            88  \n",
       "249           0            83  \n",
       "294           0            57  \n",
       "374           0            93  "
      ]
     },
     "execution_count": 27,
     "metadata": {},
     "output_type": "execute_result"
    }
   ],
   "source": [
    "new_weather = pd.DataFrame(weather_df, columns = [\"City\", 'Latitude','Longitude',\"Max Temperature\", \"Wind Speed (MPH)\", \"Cloudiness\",'Humidity (%)'])\n",
    "\n",
    "max_temp = (new_weather[\"Max Temperature\"] <= 80) & (new_weather[\"Max Temperature\"] > 70)\n",
    "wind_speed = new_weather[\"Wind Speed (MPH)\"] < 10\n",
    "cloudiness = new_weather[\"Cloudiness\"] == 0\n",
    "\n",
    "new_weather=new_weather[max_temp & wind_speed & cloudiness]\n",
    "new_weather.head()"
   ]
  },
  {
   "cell_type": "code",
   "execution_count": 28,
   "metadata": {},
   "outputs": [],
   "source": [
    "# Store into variable named hotel_df.\n",
    "# Add a \"Hotel Name\" column to the DataFrame.\n",
    "# Set parameters to search for hotels with 5000 meters.\n",
    "# Hit the Google Places API for each city's coordinates.\n",
    "# Store the first Hotel result into the DataFrame.\n",
    "# Plot markers on top of the heatmap."
   ]
  },
  {
   "cell_type": "code",
   "execution_count": 29,
   "metadata": {},
   "outputs": [],
   "source": [
    "new_weather['Hotel Name']=''"
   ]
  },
  {
   "cell_type": "code",
   "execution_count": 30,
   "metadata": {},
   "outputs": [],
   "source": [
    "# create a params dict holding information for radius and keyword (no 'Hotel' item found in documentation)\n",
    "target_search='Hotel'\n",
    "radius=5000\n",
    "params = {\n",
    "    \"keyword\": target_search,\n",
    "    \"radius\": radius,\n",
    "    \"key\": g_key\n",
    "}\n",
    "hotel_name_box=[]\n",
    "# Loop through the df and search for hotels in radius of each lat/lng\n",
    "for index, row in new_weather.iterrows():\n",
    "    base_url = \"https://maps.googleapis.com/maps/api/place/nearbysearch/json\"\n",
    "\n",
    "    lat = row['Latitude']\n",
    "    lng = row['Longitude']\n",
    "    city = row['City']\n",
    "\n",
    "    # update address key value\n",
    "    params['location'] = f\"{lat},{lng}\"\n",
    "\n",
    "    # make request\n",
    "    hotels_5000 = requests.get(base_url, params=params)\n",
    "\n",
    "    #  print(hotels_5000.url)\n",
    "    \n",
    "    # convert to json\n",
    "    hotels_5000 = hotels_5000.json()\n",
    "    # store name (look through json layout first to determine index)\n",
    "    #Use Try/Except to account for cities without hotel within radius 5000\n",
    "    try:\n",
    "        hotel_name=hotels_5000['results'][0]['name']\n",
    "#         print(hotel_name)\n",
    "        #gather data for marker label\n",
    "#         hotel_name_marker= {'name': hotels_5000['results'][0]['name'], 'location': (f'({lat},{lng})')}\n",
    "#         hotel_name_box.append(hotel_name_marker)\n",
    "        \n",
    "        new_weather.loc[index, 'Hotel Name'] = hotel_name\n",
    "        \n",
    "    except IndexError:\n",
    "        print(f'There is no hotel near {city}.')\n",
    "\n",
    "# Visualize to confirm lat lng appear\n",
    "# new_weather.head()\n",
    "                                                          "
   ]
  },
  {
   "cell_type": "code",
   "execution_count": 31,
   "metadata": {},
   "outputs": [],
   "source": [
    "new_hotel=new_weather.dropna()"
   ]
  },
  {
   "cell_type": "code",
   "execution_count": 32,
   "metadata": {},
   "outputs": [],
   "source": [
    "#Reset parameters for humidity and locations\n",
    "#NA values have been removed so there are less spots now\n",
    "humidity = new_hotel[\"Humidity (%)\"].astype(float)\n",
    "coordinates = new_hotel[[\"Latitude\", \"Longitude\"]].astype(float)"
   ]
  },
  {
   "cell_type": "code",
   "execution_count": 33,
   "metadata": {},
   "outputs": [],
   "source": [
    "# hotel_locations = [hotel['location'] for hotel in hotel_name_box]\n",
    "# info_box_template = \"\"\"\n",
    "# <dl>\n",
    "# <dt>Name</dt><dd>{name}</dd>\n",
    "# </dl>\n",
    "# \"\"\"\n",
    "# hotel_info = [info_box_template.format(**hotel) for hotel in hotel_name_box]\n",
    "\n",
    "# marker_layer = gmaps.marker_layer(hotel_locations, info_box_content=hotel_info)\n",
    "# fig = gmaps.figure()\n",
    "# fig.add_layer(marker_layer)\n",
    "# fig"
   ]
  },
  {
   "cell_type": "code",
   "execution_count": 34,
   "metadata": {},
   "outputs": [
    {
     "data": {
      "text/plain": [
       "[]"
      ]
     },
     "execution_count": 34,
     "metadata": {},
     "output_type": "execute_result"
    }
   ],
   "source": [
    "hotel_name_box\n",
    "#how do i remove the '' around the lat and lon"
   ]
  },
  {
   "cell_type": "code",
   "execution_count": 35,
   "metadata": {},
   "outputs": [
    {
     "data": {
      "application/vnd.jupyter.widget-view+json": {
       "model_id": "a00a8eadbf82475887f23327757a9814",
       "version_major": 2,
       "version_minor": 0
      },
      "text/plain": [
       "Figure(layout=FigureLayout(height='420px'))"
      ]
     },
     "metadata": {},
     "output_type": "display_data"
    }
   ],
   "source": [
    "fig = gmaps.figure(center=(10, 30),zoom_level=2)\n",
    "\n",
    "markers = gmaps.marker_layer(coordinates)\n",
    "\n",
    "# Add the layer to the map\n",
    "fig.add_layer(markers)\n",
    "\n",
    "heat_layer = gmaps.heatmap_layer(coordinates ,weights= humidity, \n",
    "                                 dissipating=False, max_intensity=100, point_radius = 3)\n",
    "fig.add_layer(heat_layer)\n",
    "\n",
    "fig"
   ]
  },
  {
   "cell_type": "code",
   "execution_count": null,
   "metadata": {},
   "outputs": [],
   "source": [
    "# Ideal places are in different hemispheres, it is interesting that they fall in the same longitudinal regions of the world"
   ]
  }
 ],
 "metadata": {
  "kernelspec": {
   "display_name": "Python 3",
   "language": "python",
   "name": "python3"
  },
  "language_info": {
   "codemirror_mode": {
    "name": "ipython",
    "version": 3
   },
   "file_extension": ".py",
   "mimetype": "text/x-python",
   "name": "python",
   "nbconvert_exporter": "python",
   "pygments_lexer": "ipython3",
   "version": "3.7.4"
  }
 },
 "nbformat": 4,
 "nbformat_minor": 2
}
