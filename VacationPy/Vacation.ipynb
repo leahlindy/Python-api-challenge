{
 "cells": [
  {
   "cell_type": "code",
   "execution_count": 1,
   "metadata": {},
   "outputs": [
    {
     "ename": "ModuleNotFoundError",
     "evalue": "No module named 'api_keys'",
     "output_type": "error",
     "traceback": [
      "\u001b[0;31m---------------------------------------------------------------------------\u001b[0m",
      "\u001b[0;31mModuleNotFoundError\u001b[0m                       Traceback (most recent call last)",
      "\u001b[0;32m<ipython-input-1-e7d95457631f>\u001b[0m in \u001b[0;36m<module>\u001b[0;34m\u001b[0m\n\u001b[1;32m      8\u001b[0m \u001b[0;34m\u001b[0m\u001b[0m\n\u001b[1;32m      9\u001b[0m \u001b[0;31m# Import API key\u001b[0m\u001b[0;34m\u001b[0m\u001b[0;34m\u001b[0m\u001b[0;34m\u001b[0m\u001b[0m\n\u001b[0;32m---> 10\u001b[0;31m \u001b[0;32mfrom\u001b[0m \u001b[0mapi_keys\u001b[0m \u001b[0;32mimport\u001b[0m \u001b[0mg_key\u001b[0m\u001b[0;34m\u001b[0m\u001b[0;34m\u001b[0m\u001b[0m\n\u001b[0m",
      "\u001b[0;31mModuleNotFoundError\u001b[0m: No module named 'api_keys'"
     ]
    }
   ],
   "source": [
    "# Dependencies and Setup\n",
    "import matplotlib.pyplot as plt\n",
    "import pandas as pd\n",
    "import numpy as np\n",
    "import requests\n",
    "import gmaps\n",
    "import os\n",
    "\n",
    "# Import API key\n",
    "from api_keys import g_key"
   ]
  },
  {
   "cell_type": "code",
   "execution_count": 11,
   "metadata": {},
   "outputs": [],
   "source": [
    "weather_df=pd.read_csv('../WeatherPy/output_data/cities.csv')"
   ]
  },
  {
   "cell_type": "code",
   "execution_count": 12,
   "metadata": {},
   "outputs": [
    {
     "data": {
      "text/html": [
       "<div>\n",
       "<style scoped>\n",
       "    .dataframe tbody tr th:only-of-type {\n",
       "        vertical-align: middle;\n",
       "    }\n",
       "\n",
       "    .dataframe tbody tr th {\n",
       "        vertical-align: top;\n",
       "    }\n",
       "\n",
       "    .dataframe thead th {\n",
       "        text-align: right;\n",
       "    }\n",
       "</style>\n",
       "<table border=\"1\" class=\"dataframe\">\n",
       "  <thead>\n",
       "    <tr style=\"text-align: right;\">\n",
       "      <th></th>\n",
       "      <th>City</th>\n",
       "      <th>Cloudiness</th>\n",
       "      <th>Country</th>\n",
       "      <th>Date</th>\n",
       "      <th>Humidity (%)</th>\n",
       "      <th>Latitude</th>\n",
       "      <th>Longitude</th>\n",
       "      <th>Max Temperature</th>\n",
       "      <th>Wind Speed (MPH)</th>\n",
       "    </tr>\n",
       "  </thead>\n",
       "  <tbody>\n",
       "    <tr>\n",
       "      <td>0</td>\n",
       "      <td>Castro</td>\n",
       "      <td>0</td>\n",
       "      <td>BR</td>\n",
       "      <td>1583895273</td>\n",
       "      <td>92</td>\n",
       "      <td>-24.79</td>\n",
       "      <td>-50.01</td>\n",
       "      <td>61.16</td>\n",
       "      <td>5.50</td>\n",
       "    </tr>\n",
       "    <tr>\n",
       "      <td>1</td>\n",
       "      <td>Nanortalik</td>\n",
       "      <td>83</td>\n",
       "      <td>GL</td>\n",
       "      <td>1583895295</td>\n",
       "      <td>80</td>\n",
       "      <td>60.14</td>\n",
       "      <td>-45.24</td>\n",
       "      <td>20.61</td>\n",
       "      <td>8.08</td>\n",
       "    </tr>\n",
       "    <tr>\n",
       "      <td>2</td>\n",
       "      <td>Vaini</td>\n",
       "      <td>75</td>\n",
       "      <td>TO</td>\n",
       "      <td>1583895310</td>\n",
       "      <td>94</td>\n",
       "      <td>-21.20</td>\n",
       "      <td>-175.20</td>\n",
       "      <td>78.80</td>\n",
       "      <td>3.36</td>\n",
       "    </tr>\n",
       "    <tr>\n",
       "      <td>3</td>\n",
       "      <td>Hermanus</td>\n",
       "      <td>100</td>\n",
       "      <td>ZA</td>\n",
       "      <td>1583895310</td>\n",
       "      <td>83</td>\n",
       "      <td>-34.42</td>\n",
       "      <td>19.23</td>\n",
       "      <td>67.19</td>\n",
       "      <td>25.57</td>\n",
       "    </tr>\n",
       "    <tr>\n",
       "      <td>4</td>\n",
       "      <td>San Javier</td>\n",
       "      <td>0</td>\n",
       "      <td>ES</td>\n",
       "      <td>1583895311</td>\n",
       "      <td>76</td>\n",
       "      <td>37.81</td>\n",
       "      <td>-0.84</td>\n",
       "      <td>57.99</td>\n",
       "      <td>5.82</td>\n",
       "    </tr>\n",
       "    <tr>\n",
       "      <td>...</td>\n",
       "      <td>...</td>\n",
       "      <td>...</td>\n",
       "      <td>...</td>\n",
       "      <td>...</td>\n",
       "      <td>...</td>\n",
       "      <td>...</td>\n",
       "      <td>...</td>\n",
       "      <td>...</td>\n",
       "      <td>...</td>\n",
       "    </tr>\n",
       "    <tr>\n",
       "      <td>582</td>\n",
       "      <td>Dārāb</td>\n",
       "      <td>0</td>\n",
       "      <td>IR</td>\n",
       "      <td>1583895350</td>\n",
       "      <td>20</td>\n",
       "      <td>28.75</td>\n",
       "      <td>54.54</td>\n",
       "      <td>44.58</td>\n",
       "      <td>0.98</td>\n",
       "    </tr>\n",
       "    <tr>\n",
       "      <td>583</td>\n",
       "      <td>Sørland</td>\n",
       "      <td>100</td>\n",
       "      <td>NO</td>\n",
       "      <td>1583895350</td>\n",
       "      <td>70</td>\n",
       "      <td>67.67</td>\n",
       "      <td>12.69</td>\n",
       "      <td>39.16</td>\n",
       "      <td>10.20</td>\n",
       "    </tr>\n",
       "    <tr>\n",
       "      <td>584</td>\n",
       "      <td>Dossor</td>\n",
       "      <td>100</td>\n",
       "      <td>KZ</td>\n",
       "      <td>1583895350</td>\n",
       "      <td>53</td>\n",
       "      <td>47.53</td>\n",
       "      <td>52.98</td>\n",
       "      <td>41.29</td>\n",
       "      <td>11.90</td>\n",
       "    </tr>\n",
       "    <tr>\n",
       "      <td>585</td>\n",
       "      <td>Wad Rāwah</td>\n",
       "      <td>0</td>\n",
       "      <td>SD</td>\n",
       "      <td>1583895350</td>\n",
       "      <td>48</td>\n",
       "      <td>15.16</td>\n",
       "      <td>33.14</td>\n",
       "      <td>73.00</td>\n",
       "      <td>10.92</td>\n",
       "    </tr>\n",
       "    <tr>\n",
       "      <td>586</td>\n",
       "      <td>Marquette</td>\n",
       "      <td>90</td>\n",
       "      <td>US</td>\n",
       "      <td>1583895350</td>\n",
       "      <td>80</td>\n",
       "      <td>46.53</td>\n",
       "      <td>-87.63</td>\n",
       "      <td>30.20</td>\n",
       "      <td>10.29</td>\n",
       "    </tr>\n",
       "  </tbody>\n",
       "</table>\n",
       "<p>587 rows × 9 columns</p>\n",
       "</div>"
      ],
      "text/plain": [
       "           City  Cloudiness Country        Date  Humidity (%)  Latitude  \\\n",
       "0        Castro           0      BR  1583895273            92    -24.79   \n",
       "1    Nanortalik          83      GL  1583895295            80     60.14   \n",
       "2         Vaini          75      TO  1583895310            94    -21.20   \n",
       "3      Hermanus         100      ZA  1583895310            83    -34.42   \n",
       "4    San Javier           0      ES  1583895311            76     37.81   \n",
       "..          ...         ...     ...         ...           ...       ...   \n",
       "582       Dārāb           0      IR  1583895350            20     28.75   \n",
       "583     Sørland         100      NO  1583895350            70     67.67   \n",
       "584      Dossor         100      KZ  1583895350            53     47.53   \n",
       "585   Wad Rāwah           0      SD  1583895350            48     15.16   \n",
       "586   Marquette          90      US  1583895350            80     46.53   \n",
       "\n",
       "     Longitude  Max Temperature  Wind Speed (MPH)  \n",
       "0       -50.01            61.16              5.50  \n",
       "1       -45.24            20.61              8.08  \n",
       "2      -175.20            78.80              3.36  \n",
       "3        19.23            67.19             25.57  \n",
       "4        -0.84            57.99              5.82  \n",
       "..         ...              ...               ...  \n",
       "582      54.54            44.58              0.98  \n",
       "583      12.69            39.16             10.20  \n",
       "584      52.98            41.29             11.90  \n",
       "585      33.14            73.00             10.92  \n",
       "586     -87.63            30.20             10.29  \n",
       "\n",
       "[587 rows x 9 columns]"
      ]
     },
     "execution_count": 12,
     "metadata": {},
     "output_type": "execute_result"
    }
   ],
   "source": [
    "weather_df"
   ]
  },
  {
   "cell_type": "code",
   "execution_count": 181,
   "metadata": {},
   "outputs": [],
   "source": [
    "gmaps.configure(api_key=g_key)"
   ]
  },
  {
   "cell_type": "code",
   "execution_count": 182,
   "metadata": {},
   "outputs": [],
   "source": [
    "# Store 'Latitude' and 'Longitude' into  locations \n",
    "locations = weather_df[[\"Latitude\", \"Longitude\"]].astype(float)\n",
    "\n",
    "# Store humidity\n",
    "humidity = weather_df[\"Humidity (%)\"].astype(float)"
   ]
  },
  {
   "cell_type": "code",
   "execution_count": 193,
   "metadata": {},
   "outputs": [
    {
     "data": {
      "application/vnd.jupyter.widget-view+json": {
       "model_id": "03c61b18c135483a8b3462bdee7fb186",
       "version_major": 2,
       "version_minor": 0
      },
      "text/plain": [
       "Figure(layout=FigureLayout(height='420px'))"
      ]
     },
     "metadata": {},
     "output_type": "display_data"
    }
   ],
   "source": [
    "#Use Humidity has weight for heatmap\n",
    "fig = gmaps.figure(center=(10,10), zoom_level=2)\n",
    "\n",
    "heat_layer = gmaps.heatmap_layer(locations ,weights=humidity, \n",
    "                                 dissipating=False, max_intensity=100,\n",
    "                                 point_radius = 2)\n",
    "fig.add_layer(heat_layer)\n",
    "\n",
    "fig"
   ]
  },
  {
   "cell_type": "code",
   "execution_count": 33,
   "metadata": {},
   "outputs": [],
   "source": [
    "# Create new DataFrame fitting weather criteria\n",
    "\n",
    "# - A max temperature lower than 80 degrees but higher than 70.\n",
    "# - Wind speed less than 10 mph.\n",
    "# - Zero cloudiness."
   ]
  },
  {
   "cell_type": "code",
   "execution_count": 194,
   "metadata": {},
   "outputs": [
    {
     "data": {
      "text/html": [
       "<div>\n",
       "<style scoped>\n",
       "    .dataframe tbody tr th:only-of-type {\n",
       "        vertical-align: middle;\n",
       "    }\n",
       "\n",
       "    .dataframe tbody tr th {\n",
       "        vertical-align: top;\n",
       "    }\n",
       "\n",
       "    .dataframe thead th {\n",
       "        text-align: right;\n",
       "    }\n",
       "</style>\n",
       "<table border=\"1\" class=\"dataframe\">\n",
       "  <thead>\n",
       "    <tr style=\"text-align: right;\">\n",
       "      <th></th>\n",
       "      <th>City</th>\n",
       "      <th>Latitude</th>\n",
       "      <th>Longitude</th>\n",
       "      <th>Max Temperature</th>\n",
       "      <th>Wind Speed (MPH)</th>\n",
       "      <th>Cloudiness</th>\n",
       "      <th>Humidity (%)</th>\n",
       "    </tr>\n",
       "  </thead>\n",
       "  <tbody>\n",
       "    <tr>\n",
       "      <td>8</td>\n",
       "      <td>Morondava</td>\n",
       "      <td>-20.28</td>\n",
       "      <td>44.28</td>\n",
       "      <td>73.67</td>\n",
       "      <td>5.79</td>\n",
       "      <td>0</td>\n",
       "      <td>75</td>\n",
       "    </tr>\n",
       "    <tr>\n",
       "      <td>89</td>\n",
       "      <td>San Ignacio</td>\n",
       "      <td>17.16</td>\n",
       "      <td>-89.07</td>\n",
       "      <td>78.80</td>\n",
       "      <td>6.93</td>\n",
       "      <td>0</td>\n",
       "      <td>74</td>\n",
       "    </tr>\n",
       "    <tr>\n",
       "      <td>127</td>\n",
       "      <td>Sharjah city</td>\n",
       "      <td>25.36</td>\n",
       "      <td>55.40</td>\n",
       "      <td>72.00</td>\n",
       "      <td>3.36</td>\n",
       "      <td>0</td>\n",
       "      <td>66</td>\n",
       "    </tr>\n",
       "    <tr>\n",
       "      <td>148</td>\n",
       "      <td>Distrikt Brokopondo</td>\n",
       "      <td>4.75</td>\n",
       "      <td>-55.17</td>\n",
       "      <td>73.44</td>\n",
       "      <td>7.14</td>\n",
       "      <td>0</td>\n",
       "      <td>81</td>\n",
       "    </tr>\n",
       "    <tr>\n",
       "      <td>190</td>\n",
       "      <td>Inhambane</td>\n",
       "      <td>-23.86</td>\n",
       "      <td>35.38</td>\n",
       "      <td>75.63</td>\n",
       "      <td>3.44</td>\n",
       "      <td>0</td>\n",
       "      <td>78</td>\n",
       "    </tr>\n",
       "  </tbody>\n",
       "</table>\n",
       "</div>"
      ],
      "text/plain": [
       "                    City  Latitude  Longitude  Max Temperature  \\\n",
       "8              Morondava    -20.28      44.28            73.67   \n",
       "89           San Ignacio     17.16     -89.07            78.80   \n",
       "127         Sharjah city     25.36      55.40            72.00   \n",
       "148  Distrikt Brokopondo      4.75     -55.17            73.44   \n",
       "190            Inhambane    -23.86      35.38            75.63   \n",
       "\n",
       "     Wind Speed (MPH)  Cloudiness  Humidity (%)  \n",
       "8                5.79           0            75  \n",
       "89               6.93           0            74  \n",
       "127              3.36           0            66  \n",
       "148              7.14           0            81  \n",
       "190              3.44           0            78  "
      ]
     },
     "execution_count": 194,
     "metadata": {},
     "output_type": "execute_result"
    }
   ],
   "source": [
    "new_weather = pd.DataFrame(weather_df, columns = [\"City\", 'Latitude','Longitude',\"Max Temperature\", \"Wind Speed (MPH)\", \"Cloudiness\",'Humidity (%)'])\n",
    "\n",
    "max_temp = (new_weather[\"Max Temperature\"] <= 80) & (new_weather[\"Max Temperature\"] > 70)\n",
    "wind_speed = new_weather[\"Wind Speed (MPH)\"] < 10\n",
    "cloudiness = new_weather[\"Cloudiness\"] == 0\n",
    "\n",
    "new_weather=new_weather[max_temp & wind_speed & cloudiness]\n",
    "new_weather.head()"
   ]
  },
  {
   "cell_type": "code",
   "execution_count": 89,
   "metadata": {},
   "outputs": [],
   "source": [
    "# Store into variable named hotel_df.\n",
    "# Add a \"Hotel Name\" column to the DataFrame.\n",
    "# Set parameters to search for hotels with 5000 meters.\n",
    "# Hit the Google Places API for each city's coordinates.\n",
    "# Store the first Hotel result into the DataFrame.\n",
    "# Plot markers on top of the heatmap."
   ]
  },
  {
   "cell_type": "code",
   "execution_count": 90,
   "metadata": {},
   "outputs": [],
   "source": [
    "new_weather['Hotel Name']=''"
   ]
  },
  {
   "cell_type": "code",
   "execution_count": 174,
   "metadata": {},
   "outputs": [
    {
     "name": "stdout",
     "output_type": "stream",
     "text": [
      "There is no hotel near Beloha.\n",
      "There is no hotel near Qandala.\n"
     ]
    }
   ],
   "source": [
    "# create a params dict holding information for radius and keyword (no 'Hotel' item found in documentation)\n",
    "target_search='Hotel'\n",
    "radius=5000\n",
    "params = {\n",
    "    \"keyword\": target_search,\n",
    "    \"radius\": radius,\n",
    "    \"key\": g_key\n",
    "}\n",
    "hotel_name_box=[]\n",
    "# Loop through the df and search for hotels in radius of each lat/lng\n",
    "for index, row in new_weather.iterrows():\n",
    "    base_url = \"https://maps.googleapis.com/maps/api/place/nearbysearch/json\"\n",
    "\n",
    "    lat = row['Latitude']\n",
    "    lng = row['Longitude']\n",
    "    city = row['City']\n",
    "\n",
    "    # update address key value\n",
    "    params['location'] = f\"{lat},{lng}\"\n",
    "\n",
    "    # make request\n",
    "    hotels_5000 = requests.get(base_url, params=params)\n",
    "\n",
    "    #  print(hotels_5000.url)\n",
    "    \n",
    "    # convert to json\n",
    "    hotels_5000 = hotels_5000.json()\n",
    "    # store name (look through json layout first to determine index)\n",
    "    #Use Try/Except to account for cities without hotel within radius 5000\n",
    "    try:\n",
    "        hotel_name=hotels_5000['results'][0]['name']\n",
    "#         print(hotel_name)\n",
    "        #gather data for marker label\n",
    "#         hotel_name_marker= {'name': hotels_5000['results'][0]['name'], 'location': (f'({lat},{lng})')}\n",
    "#         hotel_name_box.append(hotel_name_marker)\n",
    "        \n",
    "        new_weather.loc[index, 'Hotel Name'] = hotel_name\n",
    "        \n",
    "    except IndexError:\n",
    "        print(f'There is no hotel near {city}.')\n",
    "\n",
    "# Visualize to confirm lat lng appear\n",
    "# new_weather.head()\n",
    "                                                          "
   ]
  },
  {
   "cell_type": "code",
   "execution_count": 165,
   "metadata": {},
   "outputs": [],
   "source": [
    "new_hotel=new_weather.dropna()"
   ]
  },
  {
   "cell_type": "code",
   "execution_count": 196,
   "metadata": {},
   "outputs": [],
   "source": [
    "#Reset parameters for humidity and locations\n",
    "#NA values have been removed so there are less spots now\n",
    "humidity = new_hotel[\"Humidity (%)\"].astype(float)\n",
    "coordinates = new_hotel[[\"Latitude\", \"Longitude\"]].astype(float)"
   ]
  },
  {
   "cell_type": "code",
   "execution_count": 176,
   "metadata": {},
   "outputs": [],
   "source": [
    "# hotel_locations = [hotel['location'] for hotel in hotel_name_box]\n",
    "# info_box_template = \"\"\"\n",
    "# <dl>\n",
    "# <dt>Name</dt><dd>{name}</dd>\n",
    "# </dl>\n",
    "# \"\"\"\n",
    "# hotel_info = [info_box_template.format(**hotel) for hotel in hotel_name_box]\n",
    "\n",
    "# marker_layer = gmaps.marker_layer(hotel_locations, info_box_content=hotel_info)\n",
    "# fig = gmaps.figure()\n",
    "# fig.add_layer(marker_layer)\n",
    "# fig"
   ]
  },
  {
   "cell_type": "code",
   "execution_count": 177,
   "metadata": {},
   "outputs": [
    {
     "data": {
      "text/plain": [
       "[{'name': 'Kimony Resort Hotel', 'location': '(-20.28,44.28)'},\n",
       " {'name': \"Ka'ana Resort And Spa\", 'location': '(17.16,-89.07)'},\n",
       " {'name': 'The Chedi Al Bait, Sharjah - a GHM hotel',\n",
       "  'location': '(25.36,55.4)'},\n",
       " {'name': 'Matu Island', 'location': '(4.75,-55.17)'},\n",
       " {'name': 'Hotel Casa Do Capitao', 'location': '(-23.86,35.38)'},\n",
       " {'name': 'Hotel Maresta Lodge', 'location': '(-9.09,-78.58)'},\n",
       " {'name': 'The First Hotel', 'location': '(16.78,94.73)'},\n",
       " {'name': 'Hotel Polo Orchid', 'location': '(25.52,90.22)'},\n",
       " {'name': 'Hotel dos Camalotes', 'location': '(-21.7,-57.88)'},\n",
       " {'name': 'Hotel Xaguate', 'location': '(14.9,-24.5)'},\n",
       " {'name': 'Hotel Carabane', 'location': '(12.48,-16.55)'},\n",
       " {'name': 'Hotel Villa Kitzia Huacho', 'location': '(-11.1,-77.61)'},\n",
       " {'name': 'Hotel la siesta', 'location': '(-10.07,-78.15)'},\n",
       " {'name': 'Hotel VIP Praia', 'location': '(14.92,-23.51)'},\n",
       " {'name': 'ibis Presidente Prudente', 'location': '(-22.13,-51.39)'},\n",
       " {'name': 'Petit Rio Hotel', 'location': '(-22.9,-43.21)'}]"
      ]
     },
     "execution_count": 177,
     "metadata": {},
     "output_type": "execute_result"
    }
   ],
   "source": [
    "hotel_name_box\n",
    "#how do i remove the '' around the lat and lon"
   ]
  },
  {
   "cell_type": "code",
   "execution_count": 197,
   "metadata": {},
   "outputs": [
    {
     "data": {
      "application/vnd.jupyter.widget-view+json": {
       "model_id": "e0e7cabd53ed4be5993ca629d53274a9",
       "version_major": 2,
       "version_minor": 0
      },
      "text/plain": [
       "Figure(layout=FigureLayout(height='420px'))"
      ]
     },
     "metadata": {},
     "output_type": "display_data"
    }
   ],
   "source": [
    "fig = gmaps.figure(center=(10, 30),zoom_level=2)\n",
    "\n",
    "markers = gmaps.marker_layer(coordinates)\n",
    "\n",
    "# Add the layer to the map\n",
    "fig.add_layer(markers)\n",
    "\n",
    "heat_layer = gmaps.heatmap_layer(coordinates ,weights= humidity, \n",
    "                                 dissipating=False, max_intensity=100, point_radius = 3)\n",
    "fig.add_layer(heat_layer)\n",
    "\n",
    "fig"
   ]
  },
  {
   "cell_type": "code",
   "execution_count": null,
   "metadata": {},
   "outputs": [],
   "source": []
  }
 ],
 "metadata": {
  "kernelspec": {
   "display_name": "Python 3",
   "language": "python",
   "name": "python3"
  },
  "language_info": {
   "codemirror_mode": {
    "name": "ipython",
    "version": 3
   },
   "file_extension": ".py",
   "mimetype": "text/x-python",
   "name": "python",
   "nbconvert_exporter": "python",
   "pygments_lexer": "ipython3",
   "version": "3.7.4"
  }
 },
 "nbformat": 4,
 "nbformat_minor": 2
}
