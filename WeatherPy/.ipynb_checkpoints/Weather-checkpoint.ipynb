{
 "cells": [
  {
   "cell_type": "code",
   "execution_count": 127,
   "metadata": {},
   "outputs": [],
   "source": [
    "# Dependencies and Setup\n",
    "import matplotlib.pyplot as plt\n",
    "import pandas as pd\n",
    "import numpy as np\n",
    "import requests\n",
    "import time\n",
    "from scipy.stats import linregress\n",
    "\n",
    "# Import API key\n",
    "from api_keys import weather_api_key\n",
    "\n",
    "# Incorporated citipy to determine city based on latitude and longitude\n",
    "from citipy import citipy\n",
    "\n",
    "\n",
    "# Output File (CSV)\n",
    "output_data_file = \"output_data/cities.csv\"\n",
    "\n",
    "# Range of latitudes and longitudes\n",
    "lat_range = (-90, 90)\n",
    "lng_range = (-180, 180)"
   ]
  },
  {
   "cell_type": "code",
   "execution_count": 128,
   "metadata": {},
   "outputs": [],
   "source": [
    "## Generate Cities List"
   ]
  },
  {
   "cell_type": "code",
   "execution_count": 178,
   "metadata": {},
   "outputs": [
    {
     "data": {
      "text/plain": [
       "600"
      ]
     },
     "execution_count": 178,
     "metadata": {},
     "output_type": "execute_result"
    }
   ],
   "source": [
    "# List for holding lat_lngs and cities\n",
    "lat_lngs = []\n",
    "cities = []\n",
    "\n",
    "# Create a set of random lat and lng combinations\n",
    "lats = np.random.uniform(low=-90.000, high=90.000, size=1500)\n",
    "lngs = np.random.uniform(low=-180.000, high=180.000, size=1500)\n",
    "lat_lngs = zip(lats, lngs)\n",
    "\n",
    "# Identify nearest city for each lat, lng combination\n",
    "for lat_lng in lat_lngs:\n",
    "    city = citipy.nearest_city(lat_lng[0], lat_lng[1]).city_name\n",
    "    \n",
    "    # If the city is unique, then add it to a our cities list\n",
    "    if city not in cities:\n",
    "        cities.append(city)\n",
    "\n",
    "# Print the city count to confirm sufficient count\n",
    "len(cities)"
   ]
  },
  {
   "cell_type": "code",
   "execution_count": 179,
   "metadata": {},
   "outputs": [],
   "source": []
  },
  {
   "cell_type": "code",
   "execution_count": 180,
   "metadata": {},
   "outputs": [],
   "source": [
    "# Perform API Calls\n",
    "# Perform a weather check on each city using a series of successive API calls.\n",
    "# Include a print log of each city as it'sbeing processed (with the city number and city name).\n",
    "\n",
    "#need info for: city, Temp, cloudiness, humidity, windspeed, lat, long\n",
    "# City        -- weather_json['name'] \n",
    "# Cloudiness  -- weather_json['clouds']['all']  \n",
    "# Country     -- weather_json['sys']['country']   \n",
    "# Date        -- weather_json['dt']\n",
    "# Humidity    -- weather_json['main']['humidity']\n",
    "# Lat         -- weather_json['coord']['lat']\n",
    "# Lng         -- weather_json['coord']['lon']  \n",
    "# Max Temp    -- weather_json['main']['temp_max']    \n",
    "# Wind Speed  -- weather_json['wind']['speed']  "
   ]
  },
  {
   "cell_type": "code",
   "execution_count": 181,
   "metadata": {},
   "outputs": [],
   "source": [
    "#lists to hold weather data\n",
    "city_name = []\n",
    "cloudines = []\n",
    "country =[]\n",
    "date = []\n",
    "humidity = []\n",
    "lat = []\n",
    "lon = []\n",
    "max_temp = []\n",
    "wind_speed = []\n",
    "not_found = []\n",
    "\n",
    "units='imperial'"
   ]
  },
  {
   "cell_type": "code",
   "execution_count": 183,
   "metadata": {},
   "outputs": [
    {
     "name": "stdout",
     "output_type": "stream",
     "text": [
      "47/600 cities were not found\n"
     ]
    }
   ],
   "source": [
    "# Iterate through list of cities previously generated\n",
    "for x in cities:\n",
    "#     Query each city within list \n",
    "    query_url = f\"{base_url}appid={weather_api_key}&units={units}&q=\"\n",
    "    weather_response = requests.get(query_url + x)\n",
    "    weather_json=weather_response.json()\n",
    "    \n",
    "#     Use exceptions to account for cities not found in API\n",
    "    try:\n",
    "#       Request information from API needed for assignment for each city\n",
    "        city_name.append(weather_json['name'])\n",
    "        cloudines.append(weather_json['clouds']['all'])\n",
    "        country.append(weather_json['sys']['country'])\n",
    "        date.append(weather_json['dt'])\n",
    "        humidity.append(weather_json['main']['humidity'])\n",
    "        lat.append(weather_json['coord']['lat'])\n",
    "        lon.append(weather_json['coord']['lon'])\n",
    "        max_temp.append(weather_json['main']['temp_max'])\n",
    "        wind_speed.append(weather_json['wind']['speed'])\n",
    "#     KeyError occurs when city not found (no reponse to query into)\n",
    "    except KeyError:\n",
    "        not_found.append(x)"
   ]
  },
  {
   "cell_type": "code",
   "execution_count": 200,
   "metadata": {},
   "outputs": [
    {
     "name": "stdout",
     "output_type": "stream",
     "text": [
      "47/600 cities were not found\n"
     ]
    },
    {
     "data": {
      "text/plain": [
       "553"
      ]
     },
     "execution_count": 200,
     "metadata": {},
     "output_type": "execute_result"
    }
   ],
   "source": [
    "# Some cities not found\n",
    "print(f'{len(not_found)}/{len(cities)} cities were not found')\n",
    "\n",
    "# Create new list excluding the missing information\n",
    "not_found=set(not_found)\n",
    "cities=set(cities)\n",
    "updated_cities = list(cities-not_found)\n",
    "\n",
    "#should it be run again?"
   ]
  },
  {
   "cell_type": "code",
   "execution_count": 208,
   "metadata": {},
   "outputs": [],
   "source": [
    "# Export the city data into a .csv.\n",
    "# before making data frame shojld each list be put into csv?"
   ]
  },
  {
   "cell_type": "code",
   "execution_count": 219,
   "metadata": {},
   "outputs": [
    {
     "data": {
      "text/html": [
       "<div>\n",
       "<style scoped>\n",
       "    .dataframe tbody tr th:only-of-type {\n",
       "        vertical-align: middle;\n",
       "    }\n",
       "\n",
       "    .dataframe tbody tr th {\n",
       "        vertical-align: top;\n",
       "    }\n",
       "\n",
       "    .dataframe thead th {\n",
       "        text-align: right;\n",
       "    }\n",
       "</style>\n",
       "<table border=\"1\" class=\"dataframe\">\n",
       "  <thead>\n",
       "    <tr style=\"text-align: right;\">\n",
       "      <th></th>\n",
       "      <th>City</th>\n",
       "      <th>Cloudiness</th>\n",
       "      <th>Country</th>\n",
       "      <th>Date</th>\n",
       "      <th>Humidity (%)</th>\n",
       "      <th>Latitude</th>\n",
       "      <th>Longitude</th>\n",
       "      <th>Max Temperature</th>\n",
       "      <th>Wind Speed (MPH)</th>\n",
       "    </tr>\n",
       "  </thead>\n",
       "  <tbody>\n",
       "    <tr>\n",
       "      <td>0</td>\n",
       "      <td>San Patricio</td>\n",
       "      <td>50</td>\n",
       "      <td>MX</td>\n",
       "      <td>1583732730</td>\n",
       "      <td>74</td>\n",
       "      <td>19.22</td>\n",
       "      <td>-104.70</td>\n",
       "      <td>75.22</td>\n",
       "      <td>4.76</td>\n",
       "    </tr>\n",
       "    <tr>\n",
       "      <td>1</td>\n",
       "      <td>San Patricio</td>\n",
       "      <td>50</td>\n",
       "      <td>MX</td>\n",
       "      <td>1583732757</td>\n",
       "      <td>74</td>\n",
       "      <td>19.22</td>\n",
       "      <td>-104.70</td>\n",
       "      <td>75.22</td>\n",
       "      <td>4.76</td>\n",
       "    </tr>\n",
       "    <tr>\n",
       "      <td>2</td>\n",
       "      <td>Jaguarão</td>\n",
       "      <td>17</td>\n",
       "      <td>BR</td>\n",
       "      <td>1583732757</td>\n",
       "      <td>65</td>\n",
       "      <td>-32.57</td>\n",
       "      <td>-53.38</td>\n",
       "      <td>69.67</td>\n",
       "      <td>5.01</td>\n",
       "    </tr>\n",
       "    <tr>\n",
       "      <td>3</td>\n",
       "      <td>Mataura</td>\n",
       "      <td>36</td>\n",
       "      <td>NZ</td>\n",
       "      <td>1583732757</td>\n",
       "      <td>84</td>\n",
       "      <td>-46.19</td>\n",
       "      <td>168.86</td>\n",
       "      <td>61.00</td>\n",
       "      <td>8.01</td>\n",
       "    </tr>\n",
       "    <tr>\n",
       "      <td>4</td>\n",
       "      <td>Labuhan</td>\n",
       "      <td>54</td>\n",
       "      <td>ID</td>\n",
       "      <td>1583732757</td>\n",
       "      <td>70</td>\n",
       "      <td>-6.88</td>\n",
       "      <td>112.21</td>\n",
       "      <td>86.81</td>\n",
       "      <td>7.02</td>\n",
       "    </tr>\n",
       "  </tbody>\n",
       "</table>\n",
       "</div>"
      ],
      "text/plain": [
       "           City  Cloudiness Country        Date  Humidity (%)  Latitude  \\\n",
       "0  San Patricio          50      MX  1583732730            74     19.22   \n",
       "1  San Patricio          50      MX  1583732757            74     19.22   \n",
       "2      Jaguarão          17      BR  1583732757            65    -32.57   \n",
       "3       Mataura          36      NZ  1583732757            84    -46.19   \n",
       "4       Labuhan          54      ID  1583732757            70     -6.88   \n",
       "\n",
       "   Longitude  Max Temperature  Wind Speed (MPH)  \n",
       "0    -104.70            75.22              4.76  \n",
       "1    -104.70            75.22              4.76  \n",
       "2     -53.38            69.67              5.01  \n",
       "3     168.86            61.00              8.01  \n",
       "4     112.21            86.81              7.02  "
      ]
     },
     "execution_count": 219,
     "metadata": {},
     "output_type": "execute_result"
    }
   ],
   "source": [
    "# Create data frame with lists for each city\n",
    "weather_df=pd.DataFrame({\"City\": city_name,\n",
    "                        'Cloudiness': cloudines,\n",
    "                        'Country': country,\n",
    "                        'Date': date,\n",
    "                        'Humidity (%)': humidity,\n",
    "                        'Latitude': lat,\n",
    "                        'Longitude': lon,\n",
    "                        'Max Temperature': max_temp,\n",
    "                        'Wind Speed (MPH)': wind_speed})\n",
    "weather_df.head()"
   ]
  },
  {
   "cell_type": "code",
   "execution_count": null,
   "metadata": {},
   "outputs": [],
   "source": [
    "# PLOTTING"
   ]
  },
  {
   "cell_type": "code",
   "execution_count": 216,
   "metadata": {},
   "outputs": [
    {
     "data": {
      "text/plain": [
       "<matplotlib.collections.PathCollection at 0x1a2465ab10>"
      ]
     },
     "execution_count": 216,
     "metadata": {},
     "output_type": "execute_result"
    },
    {
     "data": {
      "image/png": "[encoded data removed]",
      "text/plain": [
       "<Figure size 432x288 with 1 Axes>"
      ]
     },
     "metadata": {
      "needs_background": "light"
     },
     "output_type": "display_data"
    }
   ],
   "source": [
    "# Latitude vs. Temperature Plot\n",
    "x_latitude = weather_df.loc[:,'Latitude']\n",
    "y_temp = weather_df.loc[:,'Max Temperature']\n",
    "plt.scatter(x_latitude,y_temp)"
   ]
  },
  {
   "cell_type": "code",
   "execution_count": 220,
   "metadata": {},
   "outputs": [
    {
     "data": {
      "text/plain": [
       "<matplotlib.collections.PathCollection at 0x1a26395390>"
      ]
     },
     "execution_count": 220,
     "metadata": {},
     "output_type": "execute_result"
    },
    {
     "data": {
      "image/png": "[encoded data removed]",
      "text/plain": [
       "<Figure size 432x288 with 1 Axes>"
      ]
     },
     "metadata": {
      "needs_background": "light"
     },
     "output_type": "display_data"
    }
   ],
   "source": [
    "# Latitude vs. Humidity Plot\n",
    "y_humidity = weather_df.loc[:,'Humidity (%)']\n",
    "plt.scatter(x_latitude,y_humidity)"
   ]
  },
  {
   "cell_type": "code",
   "execution_count": 221,
   "metadata": {},
   "outputs": [
    {
     "data": {
      "text/plain": [
       "<matplotlib.collections.PathCollection at 0x1a263f2c90>"
      ]
     },
     "execution_count": 221,
     "metadata": {},
     "output_type": "execute_result"
    },
    {
     "data": {
      "image/png": "[encoded data removed]",
      "text/plain": [
       "<Figure size 432x288 with 1 Axes>"
      ]
     },
     "metadata": {
      "needs_background": "light"
     },
     "output_type": "display_data"
    }
   ],
   "source": [
    "# Latitude vs. Cloudiness Plot\n",
    "y_cloudiness = weather_df.loc[:,'Cloudiness']\n",
    "plt.scatter(x_latitude,y_cloudiness)"
   ]
  },
  {
   "cell_type": "code",
   "execution_count": 223,
   "metadata": {},
   "outputs": [
    {
     "data": {
      "text/plain": [
       "<matplotlib.collections.PathCollection at 0x1a265144d0>"
      ]
     },
     "execution_count": 223,
     "metadata": {},
     "output_type": "execute_result"
    },
    {
     "data": {
      "image/png": "[encoded data removed]",
      "text/plain": [
       "<Figure size 432x288 with 1 Axes>"
      ]
     },
     "metadata": {
      "needs_background": "light"
     },
     "output_type": "display_data"
    }
   ],
   "source": [
    "# Latitude vs. Wind Speed Plot\n",
    "y_wind = weather_df.loc[:,'Wind Speed (MPH)']\n",
    "plt.scatter(x_latitude,y_wind)"
   ]
  },
  {
   "cell_type": "code",
   "execution_count": null,
   "metadata": {},
   "outputs": [],
   "source": []
  }
 ],
 "metadata": {
  "kernelspec": {
   "display_name": "Python 3",
   "language": "python",
   "name": "python3"
  },
  "language_info": {
   "codemirror_mode": {
    "name": "ipython",
    "version": 3
   },
   "file_extension": ".py",
   "mimetype": "text/x-python",
   "name": "python",
   "nbconvert_exporter": "python",
   "pygments_lexer": "ipython3",
   "version": "3.7.4"
  }
 },
 "nbformat": 4,
 "nbformat_minor": 2
}
